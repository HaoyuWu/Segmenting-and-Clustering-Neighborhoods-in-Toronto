{
    "nbformat_minor": 1, 
    "cells": [
        {
            "source": "# Final report of the Battle of the neighborhoods", 
            "cell_type": "markdown", 
            "metadata": {
                "collapsed": true
            }
        }, 
        {
            "source": "## Introduction/Business Problem", 
            "cell_type": "markdown", 
            "metadata": {}
        }, 
        {
            "source": "In this final project, we would like to compare the neighborhoods of two cites: New York and Toronto. Specifically, we will examine whether it is a good idea to move to Toronto if you are originally live in New York for a similar neighborhood.\n\nSuppose a person lived in Manhattan and enjoy the neighborhood there, mainly because of all the great amenities and venues, such as restaurant, pharmacies, parks, schools and so on. However, a job-offer with a better payment and greater career plan arrived and required the relocation to Toronto. Wouldn't it be great if it is able to determine neighborhoods on the city of Toronto that are exactly the same as the current neighborhood, and if not, perhaps similar neighborhoods that are at least closer to the new job? \n\nIn this capstone project I will use Foursquare location data to answer the question by comparing the neighborhoods in terms of a service and searching for potential explanation of why a neighborhood is popular. Furthermore, I will segment the cities into different clusters and then using a combination of location data and machine learning to find similar neighborhoods in a big city like New York or Toronto.\n", 
            "cell_type": "markdown", 
            "metadata": {}
        }, 
        {
            "source": "## Data", 
            "cell_type": "markdown", 
            "metadata": {}
        }, 
        {
            "source": "There are three major sources of data that are used in this project. \n1.  Postal-code-level location data: New York's data is from NYU and Toronto's is from wekipedia. These datasets both provides the information of postal codes, boroughs and neighborhoods of Toronto.\n2.\tCoordinates data from geopy library in Python, which provide the longitude and latitude according to the \u201caddress\u201d(Tonronto)\n3.\tFoursquare API geocode data, which contains most common venues according to the neighborhood.\n\nThe detail in the process to solve this question is listes below: First, extract geography information of Toronto from weikipedia; Second, convert addresses (postal code and borough) into their equivalent latitude and longitude values; Third, explore neighborhoods in both cities on Foursquare API and get the most common venue categories in each neighborhood, and then use k-means clustering algorithm to group the neighborhoods into clusters; Finally, use the Folium library to visualize the neighborhoods in two cities and their emerging clusters, then compare the similarities and dissimilarities of two locations.\n", 
            "cell_type": "markdown", 
            "metadata": {}
        }
    ], 
    "metadata": {
        "kernelspec": {
            "display_name": "Python 3.5", 
            "name": "python3", 
            "language": "python"
        }, 
        "language_info": {
            "mimetype": "text/x-python", 
            "nbconvert_exporter": "python", 
            "version": "3.5.5", 
            "name": "python", 
            "file_extension": ".py", 
            "pygments_lexer": "ipython3", 
            "codemirror_mode": {
                "version": 3, 
                "name": "ipython"
            }
        }
    }, 
    "nbformat": 4
}