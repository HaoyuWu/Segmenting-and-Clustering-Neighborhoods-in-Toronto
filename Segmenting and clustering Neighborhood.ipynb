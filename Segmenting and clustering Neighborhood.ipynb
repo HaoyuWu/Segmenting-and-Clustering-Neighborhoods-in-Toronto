{
    "nbformat_minor": 1, 
    "cells": [
        {
            "source": "## Segmenting and Clustering Neighborhoods in Toronto", 
            "cell_type": "markdown", 
            "metadata": {
                "collapsed": true
            }
        }, 
        {
            "execution_count": 58, 
            "cell_type": "code", 
            "metadata": {}, 
            "outputs": [], 
            "source": "import pandas as pd\nimport requests\nfrom bs4 import BeautifulSoup\npd.set_option('display.max_rows',500)"
        }, 
        {
            "execution_count": 135, 
            "cell_type": "code", 
            "metadata": {}, 
            "outputs": [
                {
                    "execution_count": 135, 
                    "metadata": {}, 
                    "data": {
                        "text/html": "<div>\n<style scoped>\n    .dataframe tbody tr th:only-of-type {\n        vertical-align: middle;\n    }\n\n    .dataframe tbody tr th {\n        vertical-align: top;\n    }\n\n    .dataframe thead th {\n        text-align: right;\n    }\n</style>\n<table border=\"1\" class=\"dataframe\">\n  <thead>\n    <tr style=\"text-align: right;\">\n      <th></th>\n      <th>PostalCode</th>\n      <th>Borough</th>\n      <th>Neighborhood</th>\n    </tr>\n  </thead>\n  <tbody>\n    <tr>\n      <th>0</th>\n      <td>M3A</td>\n      <td>North York</td>\n      <td>Parkwoods</td>\n    </tr>\n    <tr>\n      <th>1</th>\n      <td>M4A</td>\n      <td>North York</td>\n      <td>Victoria Village</td>\n    </tr>\n    <tr>\n      <th>2</th>\n      <td>M5A</td>\n      <td>Downtown Toronto</td>\n      <td>Regent Park , Harbourfront</td>\n    </tr>\n    <tr>\n      <th>3</th>\n      <td>M6A</td>\n      <td>North York</td>\n      <td>Lawrence Manor , Lawrence Heights</td>\n    </tr>\n    <tr>\n      <th>4</th>\n      <td>M7A</td>\n      <td>Queen's Park</td>\n      <td>Queen's Park</td>\n    </tr>\n    <tr>\n      <th>5</th>\n      <td>M9A</td>\n      <td>Etobicoke</td>\n      <td>Islington Avenue</td>\n    </tr>\n    <tr>\n      <th>6</th>\n      <td>M1B</td>\n      <td>Scarborough</td>\n      <td>Malvern , Rouge</td>\n    </tr>\n    <tr>\n      <th>7</th>\n      <td>M3B</td>\n      <td>North York</td>\n      <td>Don MillsNorth</td>\n    </tr>\n    <tr>\n      <th>8</th>\n      <td>M4B</td>\n      <td>East York</td>\n      <td>Parkview Hill , Woodbine Gardens</td>\n    </tr>\n    <tr>\n      <th>9</th>\n      <td>M5B</td>\n      <td>Downtown Toronto</td>\n      <td>Garden District, Ryerson</td>\n    </tr>\n  </tbody>\n</table>\n</div>", 
                        "text/plain": "  PostalCode           Borough                       Neighborhood\n0  M3A        North York        Parkwoods                        \n1  M4A        North York        Victoria Village                 \n2  M5A        Downtown Toronto  Regent Park , Harbourfront       \n3  M6A        North York        Lawrence Manor , Lawrence Heights\n4  M7A        Queen's Park      Queen's Park                     \n5  M9A        Etobicoke         Islington Avenue                 \n6  M1B        Scarborough       Malvern , Rouge                  \n7  M3B        North York        Don MillsNorth                   \n8  M4B        East York         Parkview Hill , Woodbine Gardens \n9  M5B        Downtown Toronto  Garden District, Ryerson         "
                    }, 
                    "output_type": "execute_result"
                }
            ], 
            "source": "res = requests.get('https://en.wikipedia.org/wiki/List_of_postal_codes_of_Canada:_M')\nsoup = BeautifulSoup(res.content,'lxml')\ntable = soup.find_all('table')[0] \ndf = pd.read_html(str(table))\ndf = df[0]\ndf1 = pd.Series.to_frame(pd.concat([df.T[x] for x in df.T]).reset_index(drop= True))\ndf1['PostalCode'] = df1[0].apply(lambda x: x[:3])\ndf1['Borough']=df1[0].apply(lambda x:x[3:])\ndf2 = df1.Borough.str.split('(',n=1, expand=True)\ndf2.columns = ['a', 'b']\ndf2.at[6, 'a'] = 'Queen\\'s Park'\ndf2.at[6, 'b'] = 'Queen\\'s Park'\ndf2.at[57, 'a'] = 'East York'\ndf2.at[57, 'b'] = 'East Toronto,The Danforth East)'\ndf2.at[114, 'a'] = 'Mississauga'\ndf2.at[114, 'b'] = 'Canada Post Gateway Processing Centre Enclave of L4W'\ndf2.at[148, 'a'] = 'Downtown Toronto'\ndf2.at[148, 'b'] = 'Stn A PO Boxes25 The Esplanade Enclave of M5E'\ndf2.at[152, 'a'] = 'Etobicoke'\ndf2.at[168, 'a'] = 'East Toronto'\ndf2.at[168, 'b'] = 'Business reply mail Processing Centre969 Eastern Enclave of M4L'\ndf2['b']=df2['b'].str.replace(')','')\ndf2['b']=df2['b'].str.replace('/',',')\n#df3=dat1.join(dat2)\ndf2.columns = ['Borough', 'Neighborhood']\ndf1 = df1[['PostalCode']]\ndf=df1.join(df2)\ndf3 = df.drop(df[(df['Borough'] == 'Not assigned')].index)\ndf=df3.reset_index(drop=True)\ndf.head(10)"
        }, 
        {
            "execution_count": 203, 
            "cell_type": "code", 
            "metadata": {}, 
            "outputs": [
                {
                    "output_type": "stream", 
                    "name": "stdout", 
                    "text": "Stored 'df' (DataFrame)\n"
                }
            ], 
            "source": "%store df"
        }, 
        {
            "source": "In this section, I was first convert the table in wikipedia to a one column dataframe.\nNext, extract the first 3 characters at the postal code. For he rest, I use \"(\" as the indicator to sapartate the boroughs and neighborhood.\nFinally. reset the index", 
            "cell_type": "markdown", 
            "metadata": {}
        }, 
        {
            "execution_count": null, 
            "cell_type": "code", 
            "metadata": {}, 
            "outputs": [], 
            "source": ""
        }
    ], 
    "metadata": {
        "kernelspec": {
            "display_name": "Python 3.5", 
            "name": "python3", 
            "language": "python"
        }, 
        "language_info": {
            "mimetype": "text/x-python", 
            "nbconvert_exporter": "python", 
            "version": "3.5.5", 
            "name": "python", 
            "file_extension": ".py", 
            "pygments_lexer": "ipython3", 
            "codemirror_mode": {
                "version": 3, 
                "name": "ipython"
            }
        }
    }, 
    "nbformat": 4
}